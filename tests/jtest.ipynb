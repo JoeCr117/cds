{
 "cells": [
  {
   "cell_type": "code",
   "execution_count": 1,
   "metadata": {},
   "outputs": [
    {
     "name": "stdout",
     "output_type": "stream",
     "text": [
      "Scrapper running in cds.core.sites.linkedin\n",
      "Scrapper running in cds.core.sites.indeed\n"
     ]
    }
   ],
   "source": [
    "import sys\n",
    "sys.path.append('..')\n",
    "from cds import Scraper, sites as s\n",
    "scraper = Scraper(browser = Scraper.CHROME, incognito = True, headless = True, verbose = True)\n",
    "primary_site =  s.LinkedIn(\n",
    "        search = 'Data Science',\n",
    "        location_a = None,\n",
    "        location_b = None,\n",
    "        location_c = None,\n",
    "        distance = None,\n",
    "        sort = 'relevant',\n",
    "        company = None,\n",
    "        salary = None,\n",
    "        jobType = None,\n",
    "        experience = None\n",
    "    )\n",
    "second_site = s.Indeed(**primary_site.get_settings())\n",
    "scraper.add_target(primary_site)\n",
    "scraper.add_target(second_site)\n",
    "#data, log = scraper.run() #goal\n",
    "scraper.run()"
   ]
  },
  {
   "cell_type": "code",
   "execution_count": 6,
   "metadata": {},
   "outputs": [],
   "source": [
    "scraper2 = Scraper(browser = Scraper.CHROME, incognito = True, headless = True, verbose = True)"
   ]
  },
  {
   "cell_type": "code",
   "execution_count": 8,
   "metadata": {},
   "outputs": [
    {
     "data": {
      "text/plain": [
       "[<cds.core.sites.linkedin.LinkedIn at 0x27456dc5410>,\n",
       " <cds.core.sites.indeed.Indeed at 0x27456d33e90>]"
      ]
     },
     "execution_count": 8,
     "metadata": {},
     "output_type": "execute_result"
    }
   ],
   "source": [
    "scraper._search_pkg.collection"
   ]
  },
  {
   "cell_type": "code",
   "execution_count": 1,
   "metadata": {},
   "outputs": [
    {
     "data": {
      "text/plain": [
       "{'search': 'Data Science',\n",
       " 'location_a': None,\n",
       " 'location_b': None,\n",
       " 'location_c': None,\n",
       " 'distance': None,\n",
       " 'sort': 'relevant',\n",
       " 'company': None,\n",
       " 'salary': None,\n",
       " 'job_type': None,\n",
       " 'experience': None,\n",
       " 'address': 'https://www.linkedin.com/jobs/search',\n",
       " 'jobType': None}"
      ]
     },
     "execution_count": 1,
     "metadata": {},
     "output_type": "execute_result"
    }
   ],
   "source": [
    "primary_site =  s.LinkedIn(\n",
    "        search = 'Data Science',\n",
    "        location_a = None,\n",
    "        location_b = None,\n",
    "        location_c = None,\n",
    "        distance = None,\n",
    "        sort = 'relevant',\n",
    "        company = None,\n",
    "        salary = None,\n",
    "        jobType = None,\n",
    "        experience = None\n",
    "    )\n",
    "primary_site.__dict__"
   ]
  },
  {
   "cell_type": "code",
   "execution_count": 2,
   "metadata": {},
   "outputs": [
    {
     "data": {
      "text/plain": [
       "{'search': 'Data Science',\n",
       " 'location_a': None,\n",
       " 'location_b': None,\n",
       " 'location_c': None,\n",
       " 'distance': None,\n",
       " 'sort': None,\n",
       " 'company': None,\n",
       " 'salary': None,\n",
       " 'job_type': None,\n",
       " 'experience': None,\n",
       " 'address': 'https://www.linkedin.com/jobs/search'}"
      ]
     },
     "execution_count": 2,
     "metadata": {},
     "output_type": "execute_result"
    }
   ],
   "source": [
    "primary_site2 = primary_site =  s.LinkedIn(\n",
    "        search = 'Data Science',\n",
    "        location_a = None,\n",
    "        location_b = None,\n",
    "        location_c = None,\n",
    "        distance = None\n",
    "    )\n",
    "primary_site.__dict__"
   ]
  },
  {
   "cell_type": "code",
   "execution_count": 3,
   "metadata": {},
   "outputs": [
    {
     "data": {
      "text/plain": [
       "{'search': 'Data Science',\n",
       " 'location_a': None,\n",
       " 'location_b': None,\n",
       " 'location_c': None,\n",
       " 'distance': None,\n",
       " 'sort': None,\n",
       " 'company': None,\n",
       " 'salary': None,\n",
       " 'job_type': None,\n",
       " 'experience': None}"
      ]
     },
     "execution_count": 3,
     "metadata": {},
     "output_type": "execute_result"
    }
   ],
   "source": [
    "primary_site2.get_settings()"
   ]
  },
  {
   "cell_type": "code",
   "execution_count": 4,
   "metadata": {},
   "outputs": [],
   "source": [
    "new_site = s.Indeed()"
   ]
  },
  {
   "cell_type": "code",
   "execution_count": 5,
   "metadata": {},
   "outputs": [
    {
     "data": {
      "text/plain": [
       "{'search': None, 'location': None}"
      ]
     },
     "execution_count": 5,
     "metadata": {},
     "output_type": "execute_result"
    }
   ],
   "source": [
    "new_site.get_settings()"
   ]
  },
  {
   "cell_type": "code",
   "execution_count": null,
   "metadata": {},
   "outputs": [],
   "source": []
  }
 ],
 "metadata": {
  "kernelspec": {
   "display_name": ".env",
   "language": "python",
   "name": "python3"
  },
  "language_info": {
   "codemirror_mode": {
    "name": "ipython",
    "version": 3
   },
   "file_extension": ".py",
   "mimetype": "text/x-python",
   "name": "python",
   "nbconvert_exporter": "python",
   "pygments_lexer": "ipython3",
   "version": "3.11.0"
  },
  "orig_nbformat": 4
 },
 "nbformat": 4,
 "nbformat_minor": 2
}
