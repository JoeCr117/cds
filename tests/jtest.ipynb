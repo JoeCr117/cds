{
 "cells": [
  {
   "cell_type": "code",
   "execution_count": 1,
   "metadata": {},
   "outputs": [
    {
     "ename": "TypeError",
     "evalue": "cannot unpack non-iterable NoneType object",
     "output_type": "error",
     "traceback": [
      "\u001b[1;31m---------------------------------------------------------------------------\u001b[0m",
      "\u001b[1;31mTypeError\u001b[0m                                 Traceback (most recent call last)",
      "Cell \u001b[1;32mIn[1], line 26\u001b[0m\n\u001b[0;32m     24\u001b[0m sPkg\u001b[39m.\u001b[39madd_Item(second_site)\n\u001b[0;32m     25\u001b[0m scraper\u001b[39m.\u001b[39mset_Pkg(search_pkg \u001b[39m=\u001b[39m sPkg)\n\u001b[1;32m---> 26\u001b[0m data, log \u001b[39m=\u001b[39m scraper\u001b[39m.\u001b[39mrun()\n",
      "\u001b[1;31mTypeError\u001b[0m: cannot unpack non-iterable NoneType object"
     ]
    }
   ],
   "source": [
    "import sys\n",
    "sys.path.append('..')\n",
    "from cds import scraper as s\n",
    "\n",
    "scraper = s.Scraper(browser = s.Scraper.CHROME, incognito = True, headless = True, verbose = True)\n",
    "\n",
    "primary_site =  s.LinkedIn(\n",
    "        search = 'Data Science',\n",
    "        location_a = None,\n",
    "        location_b = None,\n",
    "        location_c = None,\n",
    "        distance = None,\n",
    "        sort = 'relevant',\n",
    "        company = None,\n",
    "        salary = None,\n",
    "        jobType = None,\n",
    "        experience = None\n",
    "    )\n",
    "\n",
    "second_site = s.Indeed(**primary_site.get_settings())\n",
    "sPkg = s.SearchPkg()\n",
    "sPkg.add_Item(primary_site)\n",
    "sPkg.add_Item(second_site)\n",
    "scraper.set_Pkg(search_pkg = sPkg)\n",
    "#data, log = scraper.run() #goal\n",
    "\n"
   ]
  },
  {
   "cell_type": "code",
   "execution_count": 1,
   "metadata": {},
   "outputs": [
    {
     "data": {
      "text/plain": [
       "{'search': 'Data Science',\n",
       " 'location_a': None,\n",
       " 'location_b': None,\n",
       " 'location_c': None,\n",
       " 'distance': None,\n",
       " 'sort': 'relevant',\n",
       " 'company': None,\n",
       " 'salary': None,\n",
       " 'job_type': None,\n",
       " 'experience': None,\n",
       " 'address': 'https://www.linkedin.com/jobs/search',\n",
       " 'jobType': None}"
      ]
     },
     "execution_count": 1,
     "metadata": {},
     "output_type": "execute_result"
    }
   ],
   "source": [
    "primary_site =  s.LinkedIn(\n",
    "        search = 'Data Science',\n",
    "        location_a = None,\n",
    "        location_b = None,\n",
    "        location_c = None,\n",
    "        distance = None,\n",
    "        sort = 'relevant',\n",
    "        company = None,\n",
    "        salary = None,\n",
    "        jobType = None,\n",
    "        experience = None\n",
    "    )\n",
    "primary_site.__dict__"
   ]
  },
  {
   "cell_type": "code",
   "execution_count": 2,
   "metadata": {},
   "outputs": [
    {
     "data": {
      "text/plain": [
       "{'search': 'Data Science',\n",
       " 'location_a': None,\n",
       " 'location_b': None,\n",
       " 'location_c': None,\n",
       " 'distance': None,\n",
       " 'sort': None,\n",
       " 'company': None,\n",
       " 'salary': None,\n",
       " 'job_type': None,\n",
       " 'experience': None,\n",
       " 'address': 'https://www.linkedin.com/jobs/search'}"
      ]
     },
     "execution_count": 2,
     "metadata": {},
     "output_type": "execute_result"
    }
   ],
   "source": [
    "primary_site2 = primary_site =  s.LinkedIn(\n",
    "        search = 'Data Science',\n",
    "        location_a = None,\n",
    "        location_b = None,\n",
    "        location_c = None,\n",
    "        distance = None\n",
    "    )\n",
    "primary_site.__dict__"
   ]
  },
  {
   "cell_type": "code",
   "execution_count": 3,
   "metadata": {},
   "outputs": [
    {
     "data": {
      "text/plain": [
       "{'search': 'Data Science',\n",
       " 'location_a': None,\n",
       " 'location_b': None,\n",
       " 'location_c': None,\n",
       " 'distance': None,\n",
       " 'sort': None,\n",
       " 'company': None,\n",
       " 'salary': None,\n",
       " 'job_type': None,\n",
       " 'experience': None}"
      ]
     },
     "execution_count": 3,
     "metadata": {},
     "output_type": "execute_result"
    }
   ],
   "source": [
    "primary_site2.get_settings()"
   ]
  },
  {
   "cell_type": "code",
   "execution_count": 4,
   "metadata": {},
   "outputs": [],
   "source": [
    "new_site = s.Indeed()"
   ]
  },
  {
   "cell_type": "code",
   "execution_count": 5,
   "metadata": {},
   "outputs": [
    {
     "data": {
      "text/plain": [
       "{'search': None, 'location': None}"
      ]
     },
     "execution_count": 5,
     "metadata": {},
     "output_type": "execute_result"
    }
   ],
   "source": [
    "new_site.get_settings()"
   ]
  },
  {
   "cell_type": "code",
   "execution_count": null,
   "metadata": {},
   "outputs": [],
   "source": []
  }
 ],
 "metadata": {
  "kernelspec": {
   "display_name": ".env",
   "language": "python",
   "name": "python3"
  },
  "language_info": {
   "codemirror_mode": {
    "name": "ipython",
    "version": 3
   },
   "file_extension": ".py",
   "mimetype": "text/x-python",
   "name": "python",
   "nbconvert_exporter": "python",
   "pygments_lexer": "ipython3",
   "version": "3.11.0"
  },
  "orig_nbformat": 4
 },
 "nbformat": 4,
 "nbformat_minor": 2
}
