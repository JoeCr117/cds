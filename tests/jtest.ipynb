{
 "cells": [
  {
   "cell_type": "code",
   "execution_count": 1,
   "metadata": {},
   "outputs": [
    {
     "name": "stdout",
     "output_type": "stream",
     "text": [
      "44\n"
     ]
    }
   ],
   "source": [
    "import sys\n",
    "sys.path.append('..')\n",
    "from cds import Scraper, sites as s\n",
    "scraper = Scraper(browser = Scraper.CHROME, headless=False, maximized=False, verbose = True, close=False)\n",
    "primary_site =  s.LinkedIn(\n",
    "        search = \"Data Science\",\n",
    "        count = 44,\n",
    "        location = \"Auburn, Ca\",\n",
    "        distance = None,\n",
    "        salary = None,\n",
    "        jobType = None,\n",
    "        experience = None,\n",
    "        on_site = [2, 3]\n",
    "    )\n",
    "# second_site = s.Indeed(**primary_site.get_settings())\n",
    "scraper.add_target(primary_site)\n",
    "# scraper.add_target(second_site)\n",
    "# #data, log = scraper.run() #goal\n",
    "data, log = scraper.run()"
   ]
  },
  {
   "cell_type": "code",
   "execution_count": 2,
   "metadata": {},
   "outputs": [
    {
     "name": "stdout",
     "output_type": "stream",
     "text": [
      "44\n"
     ]
    },
    {
     "data": {
      "text/plain": [
       "['https://www.linkedin.com/jobs/view/associate-analyst-at-los-angeles-dodgers-3595585930?refId=kmaFXBN4LwLaYRjiMxNbwA%3D%3D&trackingId=I7kiVJ5sYFonDJeZkRguwQ%3D%3D&position=1&pageNum=0&trk=public_jobs_jserp-result_search-card',\n",
       " 'https://www.linkedin.com/jobs/view/data-analysis-and-machine-learning-graduate-intern-at-deltek-3592498472?refId=kmaFXBN4LwLaYRjiMxNbwA%3D%3D&trackingId=Ruf2S1cxsQnWK4RvEVBnNg%3D%3D&position=2&pageNum=0&trk=public_jobs_jserp-result_search-card',\n",
       " 'https://www.linkedin.com/jobs/view/data-scientist-entry-level-at-patterned-learning-ai-3591457401?refId=kmaFXBN4LwLaYRjiMxNbwA%3D%3D&trackingId=csj2BWRUsJFbPuCWMOWymQ%3D%3D&position=3&pageNum=0&trk=public_jobs_jserp-result_search-card',\n",
       " 'https://www.linkedin.com/jobs/view/data-science-intern-at-brivo-3598006796?refId=kmaFXBN4LwLaYRjiMxNbwA%3D%3D&trackingId=edhWhDXssldqkR3T9sBQaQ%3D%3D&position=4&pageNum=0&trk=public_jobs_jserp-result_search-card',\n",
       " 'https://www.linkedin.com/jobs/view/data-scientist-at-croptix-3594778628?refId=kmaFXBN4LwLaYRjiMxNbwA%3D%3D&trackingId=YDinfkt6PwslrSid5ARBUQ%3D%3D&position=5&pageNum=0&trk=public_jobs_jserp-result_search-card',\n",
       " 'https://www.linkedin.com/jobs/view/research-assistant-limited-at-ucla-health-3592447723?refId=kmaFXBN4LwLaYRjiMxNbwA%3D%3D&trackingId=0K5ToBG7xxJDM3acKhXKjw%3D%3D&position=6&pageNum=0&trk=public_jobs_jserp-result_search-card',\n",
       " 'https://www.linkedin.com/jobs/view/data-analyst-us-healthcare-remote-at-walgreens-3599825740?refId=kmaFXBN4LwLaYRjiMxNbwA%3D%3D&trackingId=d15PXqpiyJAvMnwT7MtLgw%3D%3D&position=7&pageNum=0&trk=public_jobs_jserp-result_search-card',\n",
       " 'https://www.linkedin.com/jobs/view/machine-learning-intern-at-meetup-3592285817?refId=kmaFXBN4LwLaYRjiMxNbwA%3D%3D&trackingId=SHSX39uxOtMoBcNk7785MQ%3D%3D&position=8&pageNum=0&trk=public_jobs_jserp-result_search-card',\n",
       " 'https://www.linkedin.com/jobs/view/ai-ml-engineer-at-involve-ai-3586816280?refId=kmaFXBN4LwLaYRjiMxNbwA%3D%3D&trackingId=HBtq%2FPusKKlZrfZC6w1Qvg%3D%3D&position=9&pageNum=0&trk=public_jobs_jserp-result_search-card',\n",
       " 'https://www.linkedin.com/jobs/view/data-science-intern-at-billtrust-3561988606?refId=kmaFXBN4LwLaYRjiMxNbwA%3D%3D&trackingId=hSe7c83RCeqQXYjZL2lF0w%3D%3D&position=10&pageNum=0&trk=public_jobs_jserp-result_search-card',\n",
       " 'https://www.linkedin.com/jobs/view/data-science-intern-summer-2023-at-certifid-3575091974?refId=kmaFXBN4LwLaYRjiMxNbwA%3D%3D&trackingId=Rnit%2Fo%2F3N30UPwI8dYuzlQ%3D%3D&position=11&pageNum=0&trk=public_jobs_jserp-result_search-card',\n",
       " 'https://www.linkedin.com/jobs/view/data-science-intern-at-fm-global-3597216335?refId=kmaFXBN4LwLaYRjiMxNbwA%3D%3D&trackingId=ReUEQJP6gMFhLehJSEhYDw%3D%3D&position=12&pageNum=0&trk=public_jobs_jserp-result_search-card',\n",
       " 'https://www.linkedin.com/jobs/view/data-scientist-at-cortex-3592384078?refId=kmaFXBN4LwLaYRjiMxNbwA%3D%3D&trackingId=G4bBcpWyPn%2Bv45n9VqRe3A%3D%3D&position=13&pageNum=0&trk=public_jobs_jserp-result_search-card',\n",
       " 'https://www.linkedin.com/jobs/view/machine-learning-engineer-at-liminal-3587024589?refId=kmaFXBN4LwLaYRjiMxNbwA%3D%3D&trackingId=dAzt3v0jewtjcqJ7Hx44yQ%3D%3D&position=14&pageNum=0&trk=public_jobs_jserp-result_search-card',\n",
       " 'https://www.linkedin.com/jobs/view/data-science-analyst-at-hussmann-3568859901?refId=kmaFXBN4LwLaYRjiMxNbwA%3D%3D&trackingId=9oy5%2FmRVSLoR4zy1bU%2BiBg%3D%3D&position=15&pageNum=0&trk=public_jobs_jserp-result_search-card',\n",
       " 'https://www.linkedin.com/jobs/view/data-scientist-hybrid-remote-at-sharecare-3595723602?refId=kmaFXBN4LwLaYRjiMxNbwA%3D%3D&trackingId=oYQSNMn%2BS8rSIgGtyYFfUA%3D%3D&position=16&pageNum=0&trk=public_jobs_jserp-result_search-card',\n",
       " 'https://www.linkedin.com/jobs/view/data-science-intern-at-alignment-health-3561031576?refId=kmaFXBN4LwLaYRjiMxNbwA%3D%3D&trackingId=hbkR2WSos948bbmQafTxlw%3D%3D&position=17&pageNum=0&trk=public_jobs_jserp-result_search-card',\n",
       " 'https://www.linkedin.com/jobs/view/data-science-intern-at-atmosfy-3588827917?refId=kmaFXBN4LwLaYRjiMxNbwA%3D%3D&trackingId=V%2F0sff%2B%2BhrEk45u%2FIVnaUg%3D%3D&position=18&pageNum=0&trk=public_jobs_jserp-result_search-card',\n",
       " 'https://www.linkedin.com/jobs/view/data-science-analyst-intern-%E2%80%93-industry-genome-at-crosstree-3585530804?refId=kmaFXBN4LwLaYRjiMxNbwA%3D%3D&trackingId=1rw4UTzSc6IElIdZcc7PFw%3D%3D&position=19&pageNum=0&trk=public_jobs_jserp-result_search-card',\n",
       " 'https://www.linkedin.com/jobs/view/data-science-at-tome-3585535069?refId=kmaFXBN4LwLaYRjiMxNbwA%3D%3D&trackingId=eiXQGKjd9V9L3k9MtRcSSQ%3D%3D&position=20&pageNum=0&trk=public_jobs_jserp-result_search-card',\n",
       " 'https://www.linkedin.com/jobs/view/part-time-graduate-coach-%E2%80%93-data-science-at-ingenius-prep-3577444521?refId=kmaFXBN4LwLaYRjiMxNbwA%3D%3D&trackingId=VeBPfjLgKPqIu3roDVpdnQ%3D%3D&position=21&pageNum=0&trk=public_jobs_jserp-result_search-card',\n",
       " 'https://www.linkedin.com/jobs/view/junior-data-scientist-at-compunnel-inc-3590264304?refId=kmaFXBN4LwLaYRjiMxNbwA%3D%3D&trackingId=yZlSB1zx2LSwuOnO3aAzcw%3D%3D&position=22&pageNum=0&trk=public_jobs_jserp-result_search-card',\n",
       " 'https://www.linkedin.com/jobs/view/data-analyst-intern-part-time-at-anvl-3595534531?refId=kmaFXBN4LwLaYRjiMxNbwA%3D%3D&trackingId=KhxkqtgyHg962hkaiwJBgQ%3D%3D&position=23&pageNum=0&trk=public_jobs_jserp-result_search-card',\n",
       " 'https://www.linkedin.com/jobs/view/data-scientist-at-trigent-solutions-inc-3593536603?refId=kmaFXBN4LwLaYRjiMxNbwA%3D%3D&trackingId=bmcDBwI2oiQpNlm4lMQ3ug%3D%3D&position=24&pageNum=0&trk=public_jobs_jserp-result_search-card',\n",
       " 'https://www.linkedin.com/jobs/view/head-of-data-science-remote-at-oxygen-3561097761?refId=kmaFXBN4LwLaYRjiMxNbwA%3D%3D&trackingId=I0dNlW5idPwlAUuA38t1Mg%3D%3D&position=25&pageNum=0&trk=public_jobs_jserp-result_search-card',\n",
       " 'https://www.linkedin.com/jobs/view/battery-data-science-intern-at-chemix-inc-3590337223?refId=3n%2BzbwJYqp6UDA%2BezuJkgw%3D%3D&trackingId=c08r5nULi%2Fn8TvBCtWa3Nw%3D%3D&position=1&pageNum=1&trk=public_jobs_jserp-result_search-card',\n",
       " 'https://www.linkedin.com/jobs/view/product-manager-intern-at-jane-com-3586832073?refId=3n%2BzbwJYqp6UDA%2BezuJkgw%3D%3D&trackingId=cAD7B2JwJ%2Bms0%2BlyXvnmfA%3D%3D&position=2&pageNum=1&trk=public_jobs_jserp-result_search-card',\n",
       " 'https://www.linkedin.com/jobs/view/data-scientist-remote-at-help-at-home-3588476912?refId=3n%2BzbwJYqp6UDA%2BezuJkgw%3D%3D&trackingId=Y%2FjkK1vFajG2Rv2KJZzsqw%3D%3D&position=3&pageNum=1&trk=public_jobs_jserp-result_search-card',\n",
       " 'https://www.linkedin.com/jobs/view/junior-artificial-intelligence-and-machine-learning-ai-ml-developer-at-dezign-concepts-3589707606?refId=3n%2BzbwJYqp6UDA%2BezuJkgw%3D%3D&trackingId=ljcl1VeLADrDtVoPkMFLZg%3D%3D&position=4&pageNum=1&trk=public_jobs_jserp-result_search-card',\n",
       " 'https://www.linkedin.com/jobs/view/healthcare-data-analyst-at-yuvo-health-3595000198?refId=3n%2BzbwJYqp6UDA%2BezuJkgw%3D%3D&trackingId=lSl0HLE1l66k6M33IGRCVg%3D%3D&position=5&pageNum=1&trk=public_jobs_jserp-result_search-card',\n",
       " 'https://www.linkedin.com/jobs/view/data-science-analyst-at-glaukos-corporation-3569872877?refId=3n%2BzbwJYqp6UDA%2BezuJkgw%3D%3D&trackingId=whbS4CuyT7%2FiGNH872q8kw%3D%3D&position=6&pageNum=1&trk=public_jobs_jserp-result_search-card',\n",
       " 'https://www.linkedin.com/jobs/view/data-science-intern-at-alignment-health-3585948458?refId=3n%2BzbwJYqp6UDA%2BezuJkgw%3D%3D&trackingId=Z6bnKd4UB14nsoWULvOlLw%3D%3D&position=7&pageNum=1&trk=public_jobs_jserp-result_search-card',\n",
       " 'https://www.linkedin.com/jobs/view/data-analyst-at-freelance-recruiters-3586468214?refId=3n%2BzbwJYqp6UDA%2BezuJkgw%3D%3D&trackingId=pceFNePt7Tu3Y7iNRftUyg%3D%3D&position=8&pageNum=1&trk=public_jobs_jserp-result_search-card',\n",
       " 'https://www.linkedin.com/jobs/view/data-scientist-principal-scientist-level-at-pharmaessentia-3590551675?refId=3n%2BzbwJYqp6UDA%2BezuJkgw%3D%3D&trackingId=uzBN7ozSsDG1J0nIxU9Alg%3D%3D&position=9&pageNum=1&trk=public_jobs_jserp-result_search-card',\n",
       " 'https://www.linkedin.com/jobs/view/data-science-intern-summer-2023-at-certifid-3575092705?refId=3n%2BzbwJYqp6UDA%2BezuJkgw%3D%3D&trackingId=Arm%2F0yBuYYPT1Ym77UokmA%3D%3D&position=10&pageNum=1&trk=public_jobs_jserp-result_search-card',\n",
       " 'https://www.linkedin.com/jobs/view/lead-data-scientist-at-glo-3595095294?refId=3n%2BzbwJYqp6UDA%2BezuJkgw%3D%3D&trackingId=fHhGiiTcF9NT5RmRAKvnGw%3D%3D&position=11&pageNum=1&trk=public_jobs_jserp-result_search-card',\n",
       " 'https://www.linkedin.com/jobs/view/data-scientist-at-global-network-technologies-3594556231?refId=3n%2BzbwJYqp6UDA%2BezuJkgw%3D%3D&trackingId=13fO21ITYJViQEI8p2jzUA%3D%3D&position=12&pageNum=1&trk=public_jobs_jserp-result_search-card',\n",
       " 'https://www.linkedin.com/jobs/view/ai-ml-engineer-level-2-at-lockheed-martin-3589900150?refId=3n%2BzbwJYqp6UDA%2BezuJkgw%3D%3D&trackingId=cI8N6ZT2vSNE%2FcSOFZT6EA%3D%3D&position=13&pageNum=1&trk=public_jobs_jserp-result_search-card',\n",
       " 'https://www.linkedin.com/jobs/view/machine-learning-and-robotics-research-engineer-at-offworld-3595732801?refId=3n%2BzbwJYqp6UDA%2BezuJkgw%3D%3D&trackingId=LJb2jkfUt470QERjSR%2BwCg%3D%3D&position=14&pageNum=1&trk=public_jobs_jserp-result_search-card',\n",
       " 'https://www.linkedin.com/jobs/view/data-scientist-at-brady-corporation-3594702043?refId=3n%2BzbwJYqp6UDA%2BezuJkgw%3D%3D&trackingId=%2BrTFjUVxCtJp386UrgQtjg%3D%3D&position=15&pageNum=1&trk=public_jobs_jserp-result_search-card',\n",
       " 'https://www.linkedin.com/jobs/view/ai-architect-remote-data-science-ai-ml-r-at-sciprex-3594980609?refId=3n%2BzbwJYqp6UDA%2BezuJkgw%3D%3D&trackingId=9LTSQiY5ZzR5UJ7uVWFVLw%3D%3D&position=16&pageNum=1&trk=public_jobs_jserp-result_search-card',\n",
       " 'https://www.linkedin.com/jobs/view/writer-creative-team-at-mrbeast-3599884578?refId=3n%2BzbwJYqp6UDA%2BezuJkgw%3D%3D&trackingId=EfJnC0DTO2oG7ERMXg063w%3D%3D&position=17&pageNum=1&trk=public_jobs_jserp-result_search-card',\n",
       " 'https://www.linkedin.com/jobs/view/artificial-intelligence-engineer-at-alertgy-3599659778?refId=3n%2BzbwJYqp6UDA%2BezuJkgw%3D%3D&trackingId=iKjmsK1yE8s4xjQIJ9KNXA%3D%3D&position=18&pageNum=1&trk=public_jobs_jserp-result_search-card',\n",
       " 'https://www.linkedin.com/jobs/view/entry-level-data-analyst-remote-at-synergisticit-3600635131?refId=3n%2BzbwJYqp6UDA%2BezuJkgw%3D%3D&trackingId=zUid4jxhAo1DEcc9RrqfrQ%3D%3D&position=19&pageNum=1&trk=public_jobs_jserp-result_search-card']"
      ]
     },
     "execution_count": 2,
     "metadata": {},
     "output_type": "execute_result"
    }
   ],
   "source": [
    "print(len(data[0]))\n",
    "data[0]"
   ]
  },
  {
   "cell_type": "code",
   "execution_count": 3,
   "metadata": {},
   "outputs": [],
   "source": [
    "import bs4\n",
    "from bs4 import BeautifulSoup\n",
    "type(data[0])\n",
    "a:bs4.element.ResultSet = data[0]\n",
    "# soup:BeautifulSoup\n",
    "# soup = data[0]"
   ]
  },
  {
   "cell_type": "code",
   "execution_count": 6,
   "metadata": {},
   "outputs": [],
   "source": [
    "scraper._driver.close()"
   ]
  },
  {
   "cell_type": "code",
   "execution_count": 7,
   "metadata": {},
   "outputs": [
    {
     "data": {
      "text/plain": [
       "[<cds.core.sites.linkedin.LinkedIn at 0x19193787ad0>]"
      ]
     },
     "execution_count": 7,
     "metadata": {},
     "output_type": "execute_result"
    }
   ],
   "source": [
    "scraper._search_pkg.collection"
   ]
  },
  {
   "cell_type": "code",
   "execution_count": 1,
   "metadata": {},
   "outputs": [
    {
     "data": {
      "text/plain": [
       "{'search': 'Data Science',\n",
       " 'location_a': None,\n",
       " 'location_b': None,\n",
       " 'location_c': None,\n",
       " 'distance': None,\n",
       " 'sort': 'relevant',\n",
       " 'company': None,\n",
       " 'salary': None,\n",
       " 'job_type': None,\n",
       " 'experience': None,\n",
       " 'address': 'https://www.linkedin.com/jobs/search',\n",
       " 'jobType': None}"
      ]
     },
     "execution_count": 1,
     "metadata": {},
     "output_type": "execute_result"
    }
   ],
   "source": [
    "primary_site =  s.LinkedIn(\n",
    "        search = 'Data Science',\n",
    "        location_a = None,\n",
    "        location_b = None,\n",
    "        location_c = None,\n",
    "        distance = None,\n",
    "        sort = 'relevant',\n",
    "        company = None,\n",
    "        salary = None,\n",
    "        jobType = None,\n",
    "        experience = None\n",
    "    )\n",
    "primary_site.__dict__"
   ]
  },
  {
   "cell_type": "code",
   "execution_count": 2,
   "metadata": {},
   "outputs": [
    {
     "data": {
      "text/plain": [
       "{'search': 'Data Science',\n",
       " 'location_a': None,\n",
       " 'location_b': None,\n",
       " 'location_c': None,\n",
       " 'distance': None,\n",
       " 'sort': None,\n",
       " 'company': None,\n",
       " 'salary': None,\n",
       " 'job_type': None,\n",
       " 'experience': None,\n",
       " 'address': 'https://www.linkedin.com/jobs/search'}"
      ]
     },
     "execution_count": 2,
     "metadata": {},
     "output_type": "execute_result"
    }
   ],
   "source": [
    "primary_site2 = primary_site =  s.LinkedIn(\n",
    "        search = 'Data Science',\n",
    "        location_a = None,\n",
    "        location_b = None,\n",
    "        location_c = None,\n",
    "        distance = None\n",
    "    )\n",
    "primary_site.__dict__"
   ]
  },
  {
   "cell_type": "code",
   "execution_count": 3,
   "metadata": {},
   "outputs": [
    {
     "data": {
      "text/plain": [
       "{'search': 'Data Science',\n",
       " 'location_a': None,\n",
       " 'location_b': None,\n",
       " 'location_c': None,\n",
       " 'distance': None,\n",
       " 'sort': None,\n",
       " 'company': None,\n",
       " 'salary': None,\n",
       " 'job_type': None,\n",
       " 'experience': None}"
      ]
     },
     "execution_count": 3,
     "metadata": {},
     "output_type": "execute_result"
    }
   ],
   "source": [
    "primary_site2.get_settings()"
   ]
  },
  {
   "cell_type": "code",
   "execution_count": 4,
   "metadata": {},
   "outputs": [],
   "source": [
    "new_site = s.Indeed()"
   ]
  },
  {
   "cell_type": "code",
   "execution_count": 5,
   "metadata": {},
   "outputs": [
    {
     "data": {
      "text/plain": [
       "{'search': None, 'location': None}"
      ]
     },
     "execution_count": 5,
     "metadata": {},
     "output_type": "execute_result"
    }
   ],
   "source": [
    "new_site.get_settings()"
   ]
  },
  {
   "cell_type": "code",
   "execution_count": null,
   "metadata": {},
   "outputs": [],
   "source": []
  }
 ],
 "metadata": {
  "kernelspec": {
   "display_name": ".env",
   "language": "python",
   "name": "python3"
  },
  "language_info": {
   "codemirror_mode": {
    "name": "ipython",
    "version": 3
   },
   "file_extension": ".py",
   "mimetype": "text/x-python",
   "name": "python",
   "nbconvert_exporter": "python",
   "pygments_lexer": "ipython3",
   "version": "3.11.0"
  },
  "orig_nbformat": 4
 },
 "nbformat": 4,
 "nbformat_minor": 2
}
