{
 "cells": [
  {
   "cell_type": "code",
   "execution_count": 1,
   "metadata": {},
   "outputs": [],
   "source": [
    "import sys\n",
    "sys.path.append('..')\n",
    "from cds import Scraper, sites as s\n",
    "scraper = Scraper(browser = Scraper.CHROME, verbose = True)\n",
    "primary_site =  s.LinkedIn(\n",
    "        search = 'Data Science',\n",
    "        count = 250,\n",
    "        location_a = None,\n",
    "        location_b = None,\n",
    "        location_c = None,\n",
    "        distance = None,\n",
    "        sort = 'relevant',\n",
    "        company = None,\n",
    "        salary = None,\n",
    "        jobType = None,\n",
    "        experience = None\n",
    "    )\n",
    "# second_site = s.Indeed(**primary_site.get_settings())\n",
    "scraper.add_target(primary_site)\n",
    "# scraper.add_target(second_site)\n",
    "# #data, log = scraper.run() #goal\n",
    "data, log = scraper.run()"
   ]
  },
  {
   "cell_type": "code",
   "execution_count": 2,
   "metadata": {},
   "outputs": [
    {
     "data": {
      "text/plain": [
       "250"
      ]
     },
     "execution_count": 2,
     "metadata": {},
     "output_type": "execute_result"
    }
   ],
   "source": [
    "len(data[0])"
   ]
  },
  {
   "cell_type": "code",
   "execution_count": 3,
   "metadata": {},
   "outputs": [],
   "source": [
    "import bs4\n",
    "from bs4 import BeautifulSoup\n",
    "type(data[0])\n",
    "a:bs4.element.ResultSet = data[0]\n",
    "# soup:BeautifulSoup\n",
    "# soup = data[0]"
   ]
  },
  {
   "cell_type": "code",
   "execution_count": 6,
   "metadata": {},
   "outputs": [],
   "source": [
    "scraper._driver.close()"
   ]
  },
  {
   "cell_type": "code",
   "execution_count": 7,
   "metadata": {},
   "outputs": [
    {
     "data": {
      "text/plain": [
       "[<cds.core.sites.linkedin.LinkedIn at 0x19193787ad0>]"
      ]
     },
     "execution_count": 7,
     "metadata": {},
     "output_type": "execute_result"
    }
   ],
   "source": [
    "scraper._search_pkg.collection"
   ]
  },
  {
   "cell_type": "code",
   "execution_count": 1,
   "metadata": {},
   "outputs": [
    {
     "data": {
      "text/plain": [
       "{'search': 'Data Science',\n",
       " 'location_a': None,\n",
       " 'location_b': None,\n",
       " 'location_c': None,\n",
       " 'distance': None,\n",
       " 'sort': 'relevant',\n",
       " 'company': None,\n",
       " 'salary': None,\n",
       " 'job_type': None,\n",
       " 'experience': None,\n",
       " 'address': 'https://www.linkedin.com/jobs/search',\n",
       " 'jobType': None}"
      ]
     },
     "execution_count": 1,
     "metadata": {},
     "output_type": "execute_result"
    }
   ],
   "source": [
    "primary_site =  s.LinkedIn(\n",
    "        search = 'Data Science',\n",
    "        location_a = None,\n",
    "        location_b = None,\n",
    "        location_c = None,\n",
    "        distance = None,\n",
    "        sort = 'relevant',\n",
    "        company = None,\n",
    "        salary = None,\n",
    "        jobType = None,\n",
    "        experience = None\n",
    "    )\n",
    "primary_site.__dict__"
   ]
  },
  {
   "cell_type": "code",
   "execution_count": 2,
   "metadata": {},
   "outputs": [
    {
     "data": {
      "text/plain": [
       "{'search': 'Data Science',\n",
       " 'location_a': None,\n",
       " 'location_b': None,\n",
       " 'location_c': None,\n",
       " 'distance': None,\n",
       " 'sort': None,\n",
       " 'company': None,\n",
       " 'salary': None,\n",
       " 'job_type': None,\n",
       " 'experience': None,\n",
       " 'address': 'https://www.linkedin.com/jobs/search'}"
      ]
     },
     "execution_count": 2,
     "metadata": {},
     "output_type": "execute_result"
    }
   ],
   "source": [
    "primary_site2 = primary_site =  s.LinkedIn(\n",
    "        search = 'Data Science',\n",
    "        location_a = None,\n",
    "        location_b = None,\n",
    "        location_c = None,\n",
    "        distance = None\n",
    "    )\n",
    "primary_site.__dict__"
   ]
  },
  {
   "cell_type": "code",
   "execution_count": 3,
   "metadata": {},
   "outputs": [
    {
     "data": {
      "text/plain": [
       "{'search': 'Data Science',\n",
       " 'location_a': None,\n",
       " 'location_b': None,\n",
       " 'location_c': None,\n",
       " 'distance': None,\n",
       " 'sort': None,\n",
       " 'company': None,\n",
       " 'salary': None,\n",
       " 'job_type': None,\n",
       " 'experience': None}"
      ]
     },
     "execution_count": 3,
     "metadata": {},
     "output_type": "execute_result"
    }
   ],
   "source": [
    "primary_site2.get_settings()"
   ]
  },
  {
   "cell_type": "code",
   "execution_count": 4,
   "metadata": {},
   "outputs": [],
   "source": [
    "new_site = s.Indeed()"
   ]
  },
  {
   "cell_type": "code",
   "execution_count": 5,
   "metadata": {},
   "outputs": [
    {
     "data": {
      "text/plain": [
       "{'search': None, 'location': None}"
      ]
     },
     "execution_count": 5,
     "metadata": {},
     "output_type": "execute_result"
    }
   ],
   "source": [
    "new_site.get_settings()"
   ]
  },
  {
   "cell_type": "code",
   "execution_count": null,
   "metadata": {},
   "outputs": [],
   "source": []
  }
 ],
 "metadata": {
  "kernelspec": {
   "display_name": ".env",
   "language": "python",
   "name": "python3"
  },
  "language_info": {
   "codemirror_mode": {
    "name": "ipython",
    "version": 3
   },
   "file_extension": ".py",
   "mimetype": "text/x-python",
   "name": "python",
   "nbconvert_exporter": "python",
   "pygments_lexer": "ipython3",
   "version": "3.11.0"
  },
  "orig_nbformat": 4
 },
 "nbformat": 4,
 "nbformat_minor": 2
}
