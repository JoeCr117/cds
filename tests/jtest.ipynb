{
 "cells": [
  {
   "cell_type": "code",
   "execution_count": 1,
   "metadata": {},
   "outputs": [
    {
     "name": "stdout",
     "output_type": "stream",
     "text": [
      "In: 470 Data Science jobs in Sacramento, California, United States (16 new)\n",
      "Location completed\n",
      "Entering distance add routine\n",
      "Clicked Drop down\n",
      "In: 470 Data Science jobs in Sacramento, California, United States (16 new)\n",
      "Clicked Option\n",
      "In: 470 Data Science jobs in Sacramento, California, United States (16 new)\n",
      "Clicked Done\n",
      "In: 642 Data Science jobs in Sacramento, California, United States (17 new)\n"
     ]
    }
   ],
   "source": [
    "import sys\n",
    "sys.path.append('..')\n",
    "from cds import Scraper, sites as s\n",
    "scraper = Scraper(browser = Scraper.CHROME, headless=False, maximized=False, verbose = True, close=False)\n",
    "primary_site =  s.LinkedIn(\n",
    "        search = \"Data Science\",\n",
    "        count = 40,\n",
    "        location = \"Sacramento, California\",\n",
    "        distance = 100,\n",
    "        salary = None,\n",
    "        jobType = None,\n",
    "        experience = None,\n",
    "        on_site = [2, 3]\n",
    "    )\n",
    "# second_site = s.Indeed(**primary_site.get_settings())\n",
    "scraper.add_target(primary_site)\n",
    "# scraper.add_target(second_site)\n",
    "# #data, log = scraper.run() #goal\n",
    "data, log = scraper.run()"
   ]
  },
  {
   "cell_type": "code",
   "execution_count": 9,
   "metadata": {},
   "outputs": [
    {
     "name": "stdout",
     "output_type": "stream",
     "text": [
      "20\n"
     ]
    },
    {
     "data": {
      "text/plain": [
       "['https://www.linkedin.com/jobs/view/data-analyst-at-corporate-tax-incentives-3599167938?refId=9xV4hsw9FogYzPHpaVCwCA%3D%3D&trackingId=dgSLx8h7vx1eXKFefD3%2BXQ%3D%3D&position=1&pageNum=0&trk=public_jobs_jserp-result_search-card',\n",
       " 'https://www.linkedin.com/jobs/view/data-analyst-at-federal-bureau-of-investigation-fbi-3601204221?refId=9xV4hsw9FogYzPHpaVCwCA%3D%3D&trackingId=6x709vTk5zgw76pGWQCXFA%3D%3D&position=2&pageNum=0&trk=public_jobs_jserp-result_search-card',\n",
       " 'https://www.linkedin.com/jobs/view/data-analyst-remote-at-ptp-2793479187?refId=9xV4hsw9FogYzPHpaVCwCA%3D%3D&trackingId=CeindDq1csTXfZCy09qzGQ%3D%3D&position=3&pageNum=0&trk=public_jobs_jserp-result_search-card',\n",
       " 'https://www.linkedin.com/jobs/view/data-analyst-at-samuel-hale-3600462317?refId=9xV4hsw9FogYzPHpaVCwCA%3D%3D&trackingId=gkhf0262gAj%2BNi7kdv6%2Btw%3D%3D&position=4&pageNum=0&trk=public_jobs_jserp-result_search-card',\n",
       " 'https://www.linkedin.com/jobs/view/associate-data-analyst-part-time-at-adventist-health-3589887205?refId=9xV4hsw9FogYzPHpaVCwCA%3D%3D&trackingId=DmElwxAdUJUYZoDooA3rcQ%3D%3D&position=5&pageNum=0&trk=public_jobs_jserp-result_search-card',\n",
       " 'https://www.linkedin.com/jobs/view/data-analytics-data-analyst-at-diverse-lynx-3595932898?refId=9xV4hsw9FogYzPHpaVCwCA%3D%3D&trackingId=l0nERPoDsjurVn5ouP9N9A%3D%3D&position=6&pageNum=0&trk=public_jobs_jserp-result_search-card',\n",
       " 'https://www.linkedin.com/jobs/view/research-data-analyst-at-wellspace-health-3593613428?refId=9xV4hsw9FogYzPHpaVCwCA%3D%3D&trackingId=qGq5UBWW2PTbknrrQ0MzsA%3D%3D&position=7&pageNum=0&trk=public_jobs_jserp-result_search-card',\n",
       " 'https://www.linkedin.com/jobs/view/informationtechnology-data-analyst-2-at-pacer-staffing-llc-3491769591?refId=9xV4hsw9FogYzPHpaVCwCA%3D%3D&trackingId=PeWUQm7Q2ovCil%2BFWTggqQ%3D%3D&position=8&pageNum=0&trk=public_jobs_jserp-result_search-card',\n",
       " 'https://www.linkedin.com/jobs/view/research-data-analyst-i-at-california-department-of-conservation-3565565801?refId=9xV4hsw9FogYzPHpaVCwCA%3D%3D&trackingId=RFV%2FX%2BNkuPQat%2B5XU22JwA%3D%3D&position=9&pageNum=0&trk=public_jobs_jserp-result_search-card',\n",
       " 'https://www.linkedin.com/jobs/view/data-analyst-iii-at-winmax-3584721465?refId=9xV4hsw9FogYzPHpaVCwCA%3D%3D&trackingId=Z%2F4dTwd%2Bo6yonKhONC5QPQ%3D%3D&position=10&pageNum=0&trk=public_jobs_jserp-result_search-card',\n",
       " 'https://www.linkedin.com/jobs/view/data-analyst-health-principal-at-blue-shield-of-california-3516889356?refId=9xV4hsw9FogYzPHpaVCwCA%3D%3D&trackingId=%2BiZpy1ZHJ6g3wNkrQL98gg%3D%3D&position=11&pageNum=0&trk=public_jobs_jserp-result_search-card',\n",
       " 'https://www.linkedin.com/jobs/view/data-analyst-junior-at-staffigo-3580707658?refId=9xV4hsw9FogYzPHpaVCwCA%3D%3D&trackingId=Q6bNsGqVOt2wBnPSyzDYzg%3D%3D&position=12&pageNum=0&trk=public_jobs_jserp-result_search-card',\n",
       " 'https://www.linkedin.com/jobs/view/healthcare-data-analyst-hybrid-at-optum-3599290123?refId=9xV4hsw9FogYzPHpaVCwCA%3D%3D&trackingId=yrsTXL%2F4PnTYHDtC1GgC%2Bw%3D%3D&position=13&pageNum=0&trk=public_jobs_jserp-result_search-card',\n",
       " 'https://www.linkedin.com/jobs/view/business-intelligence-analyst-ii-at-sutter-health-3573885967?refId=9xV4hsw9FogYzPHpaVCwCA%3D%3D&trackingId=S83mXIhuXYALUOTzPqvS5A%3D%3D&position=14&pageNum=0&trk=public_jobs_jserp-result_search-card',\n",
       " 'https://www.linkedin.com/jobs/view/research-data-analyst-ii-at-california-department-of-health-care-access-and-information-3594034390?refId=9xV4hsw9FogYzPHpaVCwCA%3D%3D&trackingId=dKHCGNtY4GbMN59MWePM4A%3D%3D&position=15&pageNum=0&trk=public_jobs_jserp-result_search-card',\n",
       " 'https://www.linkedin.com/jobs/view/sr-data-analyst-at-ledgent-technology-3595380744?refId=9xV4hsw9FogYzPHpaVCwCA%3D%3D&trackingId=mUOZexDPe1zJ3qR3ELTk9g%3D%3D&position=16&pageNum=0&trk=public_jobs_jserp-result_search-card',\n",
       " 'https://www.linkedin.com/jobs/view/data-analytics-data-analyst-at-diverse-lynx-3569918084?refId=9xV4hsw9FogYzPHpaVCwCA%3D%3D&trackingId=1Dz34XMSLD%2FDCsqLCTVDyA%3D%3D&position=17&pageNum=0&trk=public_jobs_jserp-result_search-card',\n",
       " 'https://www.linkedin.com/jobs/view/enrollment-data-analyst-526253-at-california-state-university-sacramento-3593416168?refId=9xV4hsw9FogYzPHpaVCwCA%3D%3D&trackingId=Jp1yKL5mBXLRQZlaw1Svww%3D%3D&position=18&pageNum=0&trk=public_jobs_jserp-result_search-card',\n",
       " 'https://www.linkedin.com/jobs/view/research-data-analyst-ii-jc-369062-at-caltrans-3593226945?refId=9xV4hsw9FogYzPHpaVCwCA%3D%3D&trackingId=3nmqLXJF2k5wiqFkekLx4w%3D%3D&position=19&pageNum=0&trk=public_jobs_jserp-result_search-card',\n",
       " 'https://www.linkedin.com/jobs/view/research-data-analyst-ii-at-california-department-of-forestry-and-fire-protection-cal-fire-3599298208?refId=9xV4hsw9FogYzPHpaVCwCA%3D%3D&trackingId=Dg4SuS0W8G9%2F3HAp1Gq0mg%3D%3D&position=20&pageNum=0&trk=public_jobs_jserp-result_search-card']"
      ]
     },
     "execution_count": 9,
     "metadata": {},
     "output_type": "execute_result"
    }
   ],
   "source": [
    "print(len(data[0]))\n",
    "data[0]"
   ]
  },
  {
   "cell_type": "code",
   "execution_count": 3,
   "metadata": {},
   "outputs": [],
   "source": [
    "import bs4\n",
    "from bs4 import BeautifulSoup\n",
    "type(data[0])\n",
    "a:bs4.element.ResultSet = data[0]\n",
    "# soup:BeautifulSoup\n",
    "# soup = data[0]"
   ]
  },
  {
   "cell_type": "code",
   "execution_count": 6,
   "metadata": {},
   "outputs": [],
   "source": [
    "scraper._driver.close()"
   ]
  },
  {
   "cell_type": "code",
   "execution_count": 7,
   "metadata": {},
   "outputs": [
    {
     "data": {
      "text/plain": [
       "[<cds.core.sites.linkedin.LinkedIn at 0x19193787ad0>]"
      ]
     },
     "execution_count": 7,
     "metadata": {},
     "output_type": "execute_result"
    }
   ],
   "source": [
    "scraper._search_pkg.collection"
   ]
  },
  {
   "cell_type": "code",
   "execution_count": 1,
   "metadata": {},
   "outputs": [
    {
     "data": {
      "text/plain": [
       "{'search': 'Data Science',\n",
       " 'location_a': None,\n",
       " 'location_b': None,\n",
       " 'location_c': None,\n",
       " 'distance': None,\n",
       " 'sort': 'relevant',\n",
       " 'company': None,\n",
       " 'salary': None,\n",
       " 'job_type': None,\n",
       " 'experience': None,\n",
       " 'address': 'https://www.linkedin.com/jobs/search',\n",
       " 'jobType': None}"
      ]
     },
     "execution_count": 1,
     "metadata": {},
     "output_type": "execute_result"
    }
   ],
   "source": [
    "primary_site =  s.LinkedIn(\n",
    "        search = 'Data Science',\n",
    "        location_a = None,\n",
    "        location_b = None,\n",
    "        location_c = None,\n",
    "        distance = None,\n",
    "        sort = 'relevant',\n",
    "        company = None,\n",
    "        salary = None,\n",
    "        jobType = None,\n",
    "        experience = None\n",
    "    )\n",
    "primary_site.__dict__"
   ]
  },
  {
   "cell_type": "code",
   "execution_count": 2,
   "metadata": {},
   "outputs": [
    {
     "data": {
      "text/plain": [
       "{'search': 'Data Science',\n",
       " 'location_a': None,\n",
       " 'location_b': None,\n",
       " 'location_c': None,\n",
       " 'distance': None,\n",
       " 'sort': None,\n",
       " 'company': None,\n",
       " 'salary': None,\n",
       " 'job_type': None,\n",
       " 'experience': None,\n",
       " 'address': 'https://www.linkedin.com/jobs/search'}"
      ]
     },
     "execution_count": 2,
     "metadata": {},
     "output_type": "execute_result"
    }
   ],
   "source": [
    "primary_site2 = primary_site =  s.LinkedIn(\n",
    "        search = 'Data Science',\n",
    "        location_a = None,\n",
    "        location_b = None,\n",
    "        location_c = None,\n",
    "        distance = None\n",
    "    )\n",
    "primary_site.__dict__"
   ]
  },
  {
   "cell_type": "code",
   "execution_count": 3,
   "metadata": {},
   "outputs": [
    {
     "data": {
      "text/plain": [
       "{'search': 'Data Science',\n",
       " 'location_a': None,\n",
       " 'location_b': None,\n",
       " 'location_c': None,\n",
       " 'distance': None,\n",
       " 'sort': None,\n",
       " 'company': None,\n",
       " 'salary': None,\n",
       " 'job_type': None,\n",
       " 'experience': None}"
      ]
     },
     "execution_count": 3,
     "metadata": {},
     "output_type": "execute_result"
    }
   ],
   "source": [
    "primary_site2.get_settings()"
   ]
  },
  {
   "cell_type": "code",
   "execution_count": 4,
   "metadata": {},
   "outputs": [],
   "source": [
    "new_site = s.Indeed()"
   ]
  },
  {
   "cell_type": "code",
   "execution_count": 5,
   "metadata": {},
   "outputs": [
    {
     "data": {
      "text/plain": [
       "{'search': None, 'location': None}"
      ]
     },
     "execution_count": 5,
     "metadata": {},
     "output_type": "execute_result"
    }
   ],
   "source": [
    "new_site.get_settings()"
   ]
  },
  {
   "cell_type": "code",
   "execution_count": null,
   "metadata": {},
   "outputs": [],
   "source": []
  }
 ],
 "metadata": {
  "kernelspec": {
   "display_name": ".env",
   "language": "python",
   "name": "python3"
  },
  "language_info": {
   "codemirror_mode": {
    "name": "ipython",
    "version": 3
   },
   "file_extension": ".py",
   "mimetype": "text/x-python",
   "name": "python",
   "nbconvert_exporter": "python",
   "pygments_lexer": "ipython3",
   "version": "3.11.0"
  },
  "orig_nbformat": 4
 },
 "nbformat": 4,
 "nbformat_minor": 2
}
