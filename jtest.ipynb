{
 "cells": [
  {
   "cell_type": "code",
   "execution_count": null,
   "metadata": {},
   "outputs": [],
   "source": [
    "import scraper as s\n",
    "\n",
    "\n",
    "scraper = s.Scraper(browser = s.Scraper.CHROME, incogneto = True, headless = True, verbose = True)\n",
    "sPkg = s.SearchPkg()\n",
    "\n",
    "primary_site =  s.LinkedIn(\n",
    "        search = 'Data Science',\n",
    "        locationA = None,\n",
    "        locationB = None,\n",
    "        locationC = None,\n",
    "        distance = None,\n",
    "        sort = 'relevant',\n",
    "        company = None,\n",
    "        salary = None,\n",
    "        jobType = None,\n",
    "        experience = None\n",
    "    )\n",
    "\n",
    "sPkg.add_Item(primary_site)\n",
    "sPkg.add_Item(s.Indeed(indeed_specific_args, primary_site.getSettings()))\n",
    "scraper.set_Pkg(configPkg = sPkg)\n",
    "data, log = scraper.run()\n",
    "\n"
   ]
  }
 ],
 "metadata": {
  "language_info": {
   "name": "python"
  },
  "orig_nbformat": 4
 },
 "nbformat": 4,
 "nbformat_minor": 2
}
