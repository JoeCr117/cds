{
 "cells": [
  {
   "cell_type": "code",
   "execution_count": null,
   "id": "0ce7a5a8-9321-40bb-9f69-d8ce55d682ae",
   "metadata": {},
   "outputs": [],
   "source": [
    "import cds"
   ]
  },
  {
   "cell_type": "markdown",
   "id": "c0abadfc-d8bd-41b2-985a-cb28035c7206",
   "metadata": {},
   "source": [
    "# cds\n",
    "* Top level module:\n",
    "    - Holds the Scraper\n",
    "        1) Can be handled by cds\n",
    "        2) Can be created as a separate object and given to cds\n",
    "    - Holds the Data Manager\n",
    "        1) Can be handled by cds\n",
    "        2) Can be created as a separate object and given to cds\n",
    "    - Maintains the data pipeline for the scraper to the datamodel and database.\n",
    "    - Functionality for saving and restoring data, making connections\n",
    "        * Essential, save and restore a pipeline so the same exact flow can be ran"
   ]
  },
  {
   "cell_type": "markdown",
   "id": "2cc30cba-5532-4168-ac38-8710d73bb80b",
   "metadata": {},
   "source": [
    "# Scraper\n",
    "* Contains the Web Scraper Abstraction\n",
    "    - Setting up the Scraper can be done at construction or after\n",
    "        1) With Setters\n",
    "        2) With config dict\n",
    "    - Give the scraper all initial information to work\n",
    "        - Browser to use\n",
    "        - Target site\n",
    "        - Job count per site (single number or tuple)\n",
    "        - Job info:            \n",
    "            1) Job Title\n",
    "            2) Location\n",
    "            3) Any other job related params\n",
    "    - Exexcute Scraper\n",
    "    - 'data' field contains the raw response from all the job links    "
   ]
  },
  {
   "cell_type": "markdown",
   "id": "958c4d05-c067-4d8b-b5e3-11d698efc63e",
   "metadata": {},
   "source": [
    "# Wrangler\n",
    "* Wrangle the raw data from the scraper into a tabular format"
   ]
  },
  {
   "cell_type": "markdown",
   "id": "3457aee3-6533-41ce-9a7a-b37f666e19a2",
   "metadata": {},
   "source": [
    "# Data Manager\n",
    "* This is the wrangled data*, and all the data management tools to save the data, restore, etc.\n",
    "    * The wrangled data could be in an sql table or something not in working memory"
   ]
  }
 ],
 "metadata": {
  "kernelspec": {
   "display_name": "Python 3 (ipykernel)",
   "language": "python",
   "name": "python3"
  },
  "language_info": {
   "codemirror_mode": {
    "name": "ipython",
    "version": 3
   },
   "file_extension": ".py",
   "mimetype": "text/x-python",
   "name": "python",
   "nbconvert_exporter": "python",
   "pygments_lexer": "ipython3",
   "version": "3.11.0"
  }
 },
 "nbformat": 4,
 "nbformat_minor": 5
}
