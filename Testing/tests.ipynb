{
 "cells": [
  {
   "attachments": {},
   "cell_type": "markdown",
   "metadata": {},
   "source": [
    "## CDS Testing"
   ]
  },
  {
   "attachments": {},
   "cell_type": "markdown",
   "metadata": {},
   "source": [
    "#### This Jupyter Notebook is a testing ground for python packages (pandas, numpy, scraping data, etc)."
   ]
  },
  {
   "attachments": {},
   "cell_type": "markdown",
   "metadata": {},
   "source": [
    "#### 03/22/2023\n",
    "#### Scrape Indeed.com for data test"
   ]
  },
  {
   "cell_type": "code",
   "execution_count": 94,
   "metadata": {},
   "outputs": [],
   "source": [
    "# Import requried python packages\n",
    "import pandas as pd\n",
    "import time\n",
    "from selenium import webdriver\n",
    "from selenium.webdriver.common.keys import Keys\n",
    "from bs4 import BeautifulSoup as soup"
   ]
  },
  {
   "cell_type": "code",
   "execution_count": 95,
   "metadata": {},
   "outputs": [],
   "source": [
    "# Scraper test\n",
    "url = \"https://www.indeed.com\"\n",
    "headers = {\"User-Agent\":\"Mozilla/5.0 (Windows NT 10.0; Win64; x64; rv:66.0) Gecko/20100101 Firefox/66.0\", \n",
    "           \"Accept-Encoding\":\"gzip, deflate\", \n",
    "           \"Accept\":\"text/html,application/xhtml+xml,application/xml;q=0.9,*/*;q=0.8\", \n",
    "           \"DNT\":\"1\",\n",
    "           \"Connection\":\"close\", \n",
    "           \"Upgrade-Insecure-Requests\":\"1\"}"
   ]
  },
  {
   "cell_type": "code",
   "execution_count": 96,
   "metadata": {},
   "outputs": [],
   "source": [
    "def scrape_job_details(url):\n",
    "    driver = webdriver.Chrome()\n",
    "    driver.get(url)\n",
    "    time.sleep(3)\n",
    "    driver.find_element_by_xpath('//*[@id=\"text-input-what\"]').send_keys(\"data science\")\n",
    "    time.sleep(3)\n",
    "    driver.find_element_by_xpath('/html/body/div').click()\n",
    "    time.sleep(3)\n",
    "    try:\n",
    "        driver.find_element_by_xpath('//*[@id=\"jobsearch\"]/button').click()\n",
    "    except:\n",
    "        driver.find_element_by_xpath('//*[@id=\"whatWhereFormId\"]/div[3]/button').click()\n",
    "    content = soup(driver.page_source, 'html.parser')\n",
    "    jobs_list = []    \n",
    "    for post in content.select('.job_seen_beacon'):\n",
    "        try:\n",
    "            data = {\n",
    "                \"job_title\":post.select('.jobTitle')[0].get_text().strip(),\n",
    "                \"company\":post.select('.companyName')[0].get_text().strip(),\n",
    "                \"rating\":post.select('.ratingsDisplay')[0].get_text().strip(),\n",
    "                \"location\":post.select('.companyLocation')[0].get_text().strip(),\n",
    "                \"salary\":post.select('.salary-snippet-container')[0].get_text().strip(),\n",
    "                \"job_desc\":post.select('.job-snippet')[0].get_text().strip(),\n",
    "                \"data\":post.select('.date')[0].get_text().strip()\n",
    "            }\n",
    "        except IndexError:\n",
    "            continue          \n",
    "        jobs_list.append(data)\n",
    "    dataframe = pd.DataFrame(jobs_list)\n",
    "    \n",
    "    return dataframe"
   ]
  },
  {
   "cell_type": "code",
   "execution_count": 97,
   "metadata": {},
   "outputs": [
    {
     "data": {
      "text/html": [
       "<div>\n",
       "<style scoped>\n",
       "    .dataframe tbody tr th:only-of-type {\n",
       "        vertical-align: middle;\n",
       "    }\n",
       "\n",
       "    .dataframe tbody tr th {\n",
       "        vertical-align: top;\n",
       "    }\n",
       "\n",
       "    .dataframe thead th {\n",
       "        text-align: right;\n",
       "    }\n",
       "</style>\n",
       "<table border=\"1\" class=\"dataframe\">\n",
       "  <thead>\n",
       "    <tr style=\"text-align: right;\">\n",
       "      <th></th>\n",
       "      <th>job_title</th>\n",
       "      <th>company</th>\n",
       "      <th>rating</th>\n",
       "      <th>location</th>\n",
       "      <th>salary</th>\n",
       "      <th>job_desc</th>\n",
       "      <th>data</th>\n",
       "    </tr>\n",
       "  </thead>\n",
       "  <tbody>\n",
       "    <tr>\n",
       "      <th>0</th>\n",
       "      <td>Technology Sales Representative - Data &amp; AI</td>\n",
       "      <td>IBM</td>\n",
       "      <td>3.9</td>\n",
       "      <td>Sacramento, CA 94203 (Alkali Flat area)</td>\n",
       "      <td>$89,000 - $167,000 a year</td>\n",
       "      <td>As a Brand Sales Specialist you'll work closel...</td>\n",
       "      <td>PostedPosted 30+ days ago</td>\n",
       "    </tr>\n",
       "    <tr>\n",
       "      <th>1</th>\n",
       "      <td>Research Data Analyst II</td>\n",
       "      <td>CalSTRS</td>\n",
       "      <td>4.0</td>\n",
       "      <td>West Sacramento, CA 95605</td>\n",
       "      <td>$69,516 - $87,072 a year</td>\n",
       "      <td>Experience working with confidential data.\\nAb...</td>\n",
       "      <td>PostedPosted 5 days ago</td>\n",
       "    </tr>\n",
       "    <tr>\n",
       "      <th>2</th>\n",
       "      <td>Research Data Analyst</td>\n",
       "      <td>Calbright College</td>\n",
       "      <td>2.5</td>\n",
       "      <td>Remote in Sacramento, CA 95811</td>\n",
       "      <td>$90,306 - $99,579 a year</td>\n",
       "      <td>At least (2) years experience with higher educ...</td>\n",
       "      <td>PostedPosted 5 days ago</td>\n",
       "    </tr>\n",
       "    <tr>\n",
       "      <th>3</th>\n",
       "      <td>Data Scientist</td>\n",
       "      <td>eJAmerica</td>\n",
       "      <td>5.0</td>\n",
       "      <td>Elk Grove, CA</td>\n",
       "      <td>$56.74 - $60.77 an hour</td>\n",
       "      <td>The data scientist role will.\\nO Use SQL to ac...</td>\n",
       "      <td>PostedPosted 1 day ago</td>\n",
       "    </tr>\n",
       "    <tr>\n",
       "      <th>4</th>\n",
       "      <td>Data Center, AI Analyst Relations Professional</td>\n",
       "      <td>INTEL</td>\n",
       "      <td>4.1</td>\n",
       "      <td>Hybrid remote in Folsom, CA 95630</td>\n",
       "      <td>$118,860 - $196,720 a year</td>\n",
       "      <td>Act as subject matter expert in the data cente...</td>\n",
       "      <td>PostedPosted 26 days ago</td>\n",
       "    </tr>\n",
       "    <tr>\n",
       "      <th>5</th>\n",
       "      <td>Data Scientist</td>\n",
       "      <td>BANK OF MARIN</td>\n",
       "      <td>3.1</td>\n",
       "      <td>Rancho Cordova, CA 95670</td>\n",
       "      <td>$80,873 - $119,183 a year</td>\n",
       "      <td>Broad knowledge across the entire data science...</td>\n",
       "      <td>PostedPosted 30+ days ago</td>\n",
       "    </tr>\n",
       "  </tbody>\n",
       "</table>\n",
       "</div>"
      ],
      "text/plain": [
       "                                        job_title            company rating  \\\n",
       "0     Technology Sales Representative - Data & AI                IBM    3.9   \n",
       "1                        Research Data Analyst II            CalSTRS    4.0   \n",
       "2                           Research Data Analyst  Calbright College    2.5   \n",
       "3                                  Data Scientist          eJAmerica    5.0   \n",
       "4  Data Center, AI Analyst Relations Professional              INTEL    4.1   \n",
       "5                                  Data Scientist      BANK OF MARIN    3.1   \n",
       "\n",
       "                                  location                      salary  \\\n",
       "0  Sacramento, CA 94203 (Alkali Flat area)   $89,000 - $167,000 a year   \n",
       "1                West Sacramento, CA 95605    $69,516 - $87,072 a year   \n",
       "2           Remote in Sacramento, CA 95811    $90,306 - $99,579 a year   \n",
       "3                            Elk Grove, CA     $56.74 - $60.77 an hour   \n",
       "4        Hybrid remote in Folsom, CA 95630  $118,860 - $196,720 a year   \n",
       "5                 Rancho Cordova, CA 95670   $80,873 - $119,183 a year   \n",
       "\n",
       "                                            job_desc  \\\n",
       "0  As a Brand Sales Specialist you'll work closel...   \n",
       "1  Experience working with confidential data.\\nAb...   \n",
       "2  At least (2) years experience with higher educ...   \n",
       "3  The data scientist role will.\\nO Use SQL to ac...   \n",
       "4  Act as subject matter expert in the data cente...   \n",
       "5  Broad knowledge across the entire data science...   \n",
       "\n",
       "                        data  \n",
       "0  PostedPosted 30+ days ago  \n",
       "1    PostedPosted 5 days ago  \n",
       "2    PostedPosted 5 days ago  \n",
       "3     PostedPosted 1 day ago  \n",
       "4   PostedPosted 26 days ago  \n",
       "5  PostedPosted 30+ days ago  "
      ]
     },
     "execution_count": 97,
     "metadata": {},
     "output_type": "execute_result"
    }
   ],
   "source": [
    "data = scrape_job_details(url)\n",
    "data"
   ]
  },
  {
   "attachments": {},
   "cell_type": "markdown",
   "metadata": {},
   "source": [
    "#### Data can be successfully scraped from Indeed.com, though we are getting data leakage for a large percentage of job listings.  Not sure why, will need to investigate further."
   ]
  }
 ],
 "metadata": {
  "kernelspec": {
   "display_name": "base",
   "language": "python",
   "name": "python3"
  },
  "language_info": {
   "codemirror_mode": {
    "name": "ipython",
    "version": 3
   },
   "file_extension": ".py",
   "mimetype": "text/x-python",
   "name": "python",
   "nbconvert_exporter": "python",
   "pygments_lexer": "ipython3",
   "version": "3.9.12"
  },
  "orig_nbformat": 4
 },
 "nbformat": 4,
 "nbformat_minor": 2
}
